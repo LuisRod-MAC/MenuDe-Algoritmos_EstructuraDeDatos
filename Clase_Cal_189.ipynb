{
  "nbformat": 4,
  "nbformat_minor": 0,
  "metadata": {
    "colab": {
      "provenance": [],
      "authorship_tag": "ABX9TyM5RAJaAGqD+gCs/GS3ZXjK",
      "include_colab_link": true
    },
    "kernelspec": {
      "name": "python3",
      "display_name": "Python 3"
    },
    "language_info": {
      "name": "python"
    }
  },
  "cells": [
    {
      "cell_type": "markdown",
      "metadata": {
        "id": "view-in-github",
        "colab_type": "text"
      },
      "source": [
        "<a href=\"https://colab.research.google.com/github/LuisRod-MAC/MenuDe-Algoritmos_EstructuraDeDatos/blob/main/Clase_Cal_189.ipynb\" target=\"_parent\"><img src=\"https://colab.research.google.com/assets/colab-badge.svg\" alt=\"Open In Colab\"/></a>"
      ]
    },
    {
      "cell_type": "code",
      "execution_count": 1,
      "metadata": {
        "colab": {
          "base_uri": "https://localhost:8080/"
        },
        "id": "EtNUjmclJncC",
        "outputId": "60d3ca40-48a6-4325-c8e7-9d6bb12d2ec1"
      },
      "outputs": [
        {
          "output_type": "stream",
          "name": "stdout",
          "text": [
            "prueba de archivo\n"
          ]
        }
      ],
      "source": [
        "print (\"prueba de archivo\")"
      ]
    },
    {
      "cell_type": "code",
      "source": [],
      "metadata": {
        "id": "6eVNksh-QTWi"
      },
      "execution_count": null,
      "outputs": []
    }
  ]
}